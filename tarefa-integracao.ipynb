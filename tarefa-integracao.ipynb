{
 "cells": [
  {
   "cell_type": "markdown",
   "metadata": {},
   "source": [
    "**Course website**: http://www.leouieda.com/matematica-especial\n",
    "\n",
    "**Note**: This notebook is part of the course \"Matemática Especial I\" of the [Universidade do Estado do Rio de Janeiro](http://www.uerj.br/). All content can be freely used and adapted under the terms of the \n",
    "[Creative Commons Attribution 4.0 International License](http://creativecommons.org/licenses/by/4.0/).\n",
    "\n",
    "![Creative Commons License](https://i.creativecommons.org/l/by/4.0/88x31.png)"
   ]
  },
  {
   "cell_type": "markdown",
   "metadata": {},
   "source": [
    "# Integração Numérica"
   ]
  },
  {
   "cell_type": "markdown",
   "metadata": {},
   "source": [
    "## Imports\n",
    "\n",
    "Coloque **todos** os `import` na célula abaixo. Não se esqueça do `%matplotlib inline` para que os gráficos apareçam no notebook."
   ]
  },
  {
   "cell_type": "code",
   "execution_count": 1,
   "metadata": {
    "collapsed": true
   },
   "outputs": [],
   "source": [
    "# Dessa vez vamos precisar da biblioteca matemática \"math\"\n",
    "# Ela define funções como sin, cos, tan, exp e constantes como pi\n",
    "import math\n",
    "import matplotlib.pyplot as plt\n",
    "%matplotlib inline"
   ]
  },
  {
   "cell_type": "markdown",
   "metadata": {},
   "source": [
    "## Regra dos retângulos\n",
    "\n",
    "O jeito mais simples de integração numérica é a regra dos retângulos. Nela, aproximamos a integral pela soma das áreas de retângulos. Cada retângulo se encontra abaixo de um dos pontos dos dados. A largura do retângulo é o espaçamento entre os dados $\\Delta$. A altura do retângulo é o valor do dado naquela posição $d_i$.\n",
    "\n",
    "Se tivermos nossos dados em um vetor de dados $\\bar{d}$ (**nota**: vetores serão representados com uma barra em cima):\n",
    "\n",
    "$$\n",
    "\\bar{d} = \\left[ d_1 ~ d_2 ~ d_3 ~ \\ldots ~ d_N \\right],\n",
    "$$\n",
    "\n",
    "a integral poderá ser aproximada pela soma das áreas dos retângulos:\n",
    "\n",
    "$$\n",
    "A = \\sum\\limits_{i=1}^{N} \\Delta d_i\n",
    "$$"
   ]
  },
  {
   "cell_type": "markdown",
   "metadata": {},
   "source": [
    "### Algoritmo\n",
    "\n",
    "Utilize a célula vazia abaixo (tipo Markdown) para colocar uma descrição do algoritmo em português (não em código). Não se esqueça de relacionar os passos do algoritmo com as fórmulas matemáticas do método.\n",
    "\n",
    "**Dicas**:\n",
    "\n",
    "* Help sobre Markdown: https://help.github.com/articles/markdown-basics/\n",
    "* Como utilizar fórmulas matemáticas: https://www.sharelatex.com/learn/Mathematical_expressions\n"
   ]
  },
  {
   "cell_type": "markdown",
   "metadata": {},
   "source": [
    "**1º passo:** Dividir a área da curva em retangulos ( quanto menor a base do retangulo, mais preciso o valor da área delimitada debaixo da curva)\n",
    "\n",
    "**2º passo:** Calcular a área de cada retangulo\n",
    "\n",
    "**3º passo:** Somar as áreas dos retangulos que será o valor aproximado da integral, como a equação abaixo:\n",
    "\n",
    "\n",
    "$$\n",
    "A = \\sum\\limits_{i=1}^{N} \\Delta d_i\n",
    "$$"
   ]
  },
  {
   "cell_type": "markdown",
   "metadata": {},
   "source": [
    "### Dados para teste\n",
    "\n",
    "Vamos utilizar dados gerados a partir de uma função $d(t) = \\cos(t)$ para testar o método de integração. A vantagem do cosseno é que sabemos quanto deve ser a integral:\n",
    "\n",
    "$$\n",
    "\\int\\limits_a^b \\cos(t) dt = \\sin(b) - \\sin(a)\n",
    "$$\n",
    "\n",
    "O código abaixo gera duas listas: uma com os tempos variando entre os limites de integração; outra com os valores correspondentes do cosseno."
   ]
  },
  {
   "cell_type": "code",
   "execution_count": 2,
   "metadata": {
    "collapsed": false,
    "scrolled": true
   },
   "outputs": [
    {
     "name": "stdout",
     "output_type": "stream",
     "text": [
      "Espaçamento entre os dados: 0.0320570678937734\n"
     ]
    }
   ],
   "source": [
    "# inicio e fim são os intervalos de integração\n",
    "inicio = 0\n",
    "fim = math.pi/2 # Funções trigonométricas utilizam ângulos em radianos!\n",
    "N = 50\n",
    "# Precisamos saber o intervalo entre cada ponto dos dados\n",
    "# A divisão é por N - 1 pois existem N - 1 intervalos entre N pontos\n",
    "intervalo = (fim - inicio)/(N - 1)\n",
    "print(\"Espaçamento entre os dados:\", intervalo)\n",
    "tempos = []\n",
    "dados = []\n",
    "for i in range(N):\n",
    "    t = inicio + i*intervalo\n",
    "    tempos.append(t)\n",
    "    dados.append(math.cos(t))"
   ]
  },
  {
   "cell_type": "code",
   "execution_count": 3,
   "metadata": {
    "collapsed": false
   },
   "outputs": [
    {
     "name": "stdout",
     "output_type": "stream",
     "text": [
      "Tempos: [0.0, 0.0320570678937734, 0.0641141357875468, 0.09617120368132019, 0.1282282715750936, 0.16028533946886697, 0.19234240736264038, 0.2243994752564138, 0.2564565431501872, 0.28851361104396056, 0.32057067893773394, 0.3526277468315074, 0.38468481472528077, 0.41674188261905415, 0.4487989505128276, 0.48085601840660097, 0.5129130863003744, 0.5449701541941477, 0.5770272220879211, 0.6090842899816945, 0.6411413578754679, 0.6731984257692414, 0.7052554936630148, 0.7373125615567881, 0.7693696294505615, 0.8014266973443349, 0.8334837652381083, 0.8655408331318817, 0.8975979010256552, 0.9296549689194286, 0.9617120368132019, 0.9937691047069753, 1.0258261726007487, 1.0578832404945222, 1.0899403083882955, 1.121997376282069, 1.1540544441758422, 1.1861115120696157, 1.218168579963389, 1.2502256478571625, 1.2822827157509358, 1.3143397836447093, 1.3463968515384828, 1.378453919432256, 1.4105109873260295, 1.4425680552198028, 1.4746251231135763, 1.5066821910073496, 1.538739258901123, 1.5707963267948966]\n"
     ]
    }
   ],
   "source": [
    "print(\"Tempos:\", tempos) #imprimir a lista com os valores tempos:"
   ]
  },
  {
   "cell_type": "code",
   "execution_count": 4,
   "metadata": {
    "collapsed": false
   },
   "outputs": [
    {
     "name": "stdout",
     "output_type": "stream",
     "text": [
      "Dados: [1.0, 0.9994862162006879, 0.9979453927503363, 0.9953791129491982, 0.9917900138232462, 0.9871817834144502, 0.9815591569910653, 0.9749279121818236, 0.9672948630390295, 0.9586678530366606, 0.9490557470106686, 0.9384684220497604, 0.9269167573460217, 0.9144126230158125, 0.9009688679024191, 0.8865993063730001, 0.8713187041233894, 0.8551427630053462, 0.8380881048918407, 0.820172254596956, 0.8014136218679567, 0.7818314824680298, 0.7614459583691344, 0.7402779970753156, 0.7183493500977276, 0.6956825506034865, 0.6723008902613169, 0.6482283953077885, 0.6234898018587336, 0.598110530491216, 0.5721166601221697, 0.5455349012105487, 0.5183925683105252, 0.4907175520039379, 0.4625382902408354, 0.4338837391175582, 0.404783343122394, 0.3752670048793742, 0.3453650544213078, 0.31510821802362077, 0.28452758663103267, 0.2536545839095075, 0.22252093395631445, 0.19115862870137248, 0.15959989503337932, 0.12787716168450622, 0.09602302590768189, 0.06407021998071318, 0.03205157757165533, 6.123233995736766e-17]\n"
     ]
    }
   ],
   "source": [
    "print(\"Dados:\", dados) #imprimir a lista com os valores dados:"
   ]
  },
  {
   "cell_type": "markdown",
   "metadata": {},
   "source": [
    "Utilize a célula abaixo para gerar um gráfico de `dados` por `tempos`."
   ]
  },
  {
   "cell_type": "code",
   "execution_count": 5,
   "metadata": {
    "collapsed": false
   },
   "outputs": [
    {
     "data": {
      "text/plain": [
       "<matplotlib.text.Text at 0x7e7eef0>"
      ]
     },
     "execution_count": 5,
     "metadata": {},
     "output_type": "execute_result"
    },
    {
     "data": {
      "image/png": "[encoded data removed]",
      "text/plain": [
       "<matplotlib.figure.Figure at 0x7e2e7b8>"
      ]
     },
     "metadata": {},
     "output_type": "display_data"
    }
   ],
   "source": [
    "# Os import's foram feitos na primeira célula\n",
    "plt.figure() #plotar figura\n",
    "plt.plot(tempos, dados,\"-k\", label=\"Dados\") #seleção das tabelas tempos e dados\n",
    "plt.xlabel(\"Tempos\") #definição do eixo horizontal como tempos\n",
    "plt.ylabel(\"Dados\") #definição do eixo vertical como dados"
   ]
  },
  {
   "cell_type": "markdown",
   "metadata": {},
   "source": [
    "### Implementação\n",
    "\n",
    "Implemente a regra dos retângulos para integrar os dados gerados acima. Coloque seu cógido na célula abaixo."
   ]
  },
  {
   "cell_type": "code",
   "execution_count": 6,
   "metadata": {
    "collapsed": false
   },
   "outputs": [
    {
     "name": "stdout",
     "output_type": "stream",
     "text": [
      "Área [0.0320570678937734, 0.032040597491636125, 0.03199120320967589, 0.031908935803856384, 0.03179387980949826, 0.03164615345441334, 0.03146590853741756, 0.03125333027234747, 0.031008637097740408, 0.030732080452374206, 0.030423944516896832, 0.03008454592181156, 0.0297142334221177, 0.02931338753894132, 0.028882420168524006, 0.028421774158971666, 0.02793192285519815, 0.027413369612531355, 0.02686664727948162, 0.026292317650203817, 0.02569097088721593, 0.025063224914967135, 0.024409724784878694, 0.023731142012509976, 0.02302817388753085, 0.022301542757209414, 0.021551995284151335, 0.020780301679053557, 0.019987254909260746, 0.019173669883937733, 0.018340382616695274, 0.017488249366529523, 0.01661814575795807, 0.015730965881256515, 0.014827621373720326, 0.013909040482895827, 0.012976167112743157, 0.012029959853711091, 0.01107139099772061, 0.010101445539069161, 0.009121120162282507, 0.008131422217953923, 0.007133368687623438, 0.006127985138760518, 0.005116304670924148, 0.004099366854183254, 0.00307821666088812, 0.0020539033918907192, 0.0010274795983170996, 1.962929279307949e-18]\n"
     ]
    }
   ],
   "source": [
    "lista_de_area = [] #lista vazia, onde será adicionados o valores da área de cada retangulo\n",
    "for valor in dados: #para cada valor de dados\n",
    "    area =  valor * intervalo #a área será a multiplicação do valor pelo intervalo (Espaçamento entre os dados: 0.0320570678937734)\n",
    "    lista_de_area.append(area) #será adicionado a lista vazia cada valor gerado pelo comando da linha acima\n",
    "print(\"Área\", lista_de_area) #imprimir a lista de áreas"
   ]
  },
  {
   "cell_type": "code",
   "execution_count": 7,
   "metadata": {
    "collapsed": false
   },
   "outputs": [
    {
     "name": "stdout",
     "output_type": "stream",
     "text": [
      "Integral pela regra dos retâgulos: 1.01594289451325\n"
     ]
    }
   ],
   "source": [
    "area = 0 # 0 indica que começara o primeiro valor\n",
    "for valor in lista_de_area: # para cada valor da lista \n",
    "    area = area + valor #o valor final da área sera o valor da área mais a soma de cada valor da lista_de_area\n",
    "print(\"Integral pela regra dos retâgulos:\", area)"
   ]
  },
  {
   "cell_type": "markdown",
   "metadata": {},
   "source": [
    "Nas células abaixo calcule e imprima:\n",
    "\n",
    "1. A solução analítica (verdadeira) para a integral\n",
    "2. O erro cometido $E = \\left|res_{true} - res_{calc}\\right|$\n",
    "\n",
    "Dica: a função `abs` calcula o valor absoluto de um número."
   ]
  },
  {
   "cell_type": "code",
   "execution_count": 8,
   "metadata": {
    "collapsed": false
   },
   "outputs": [
    {
     "name": "stdout",
     "output_type": "stream",
     "text": [
      "Erro cometido: 0.01594289451325004\n",
      "Solução analítica 1.0\n"
     ]
    }
   ],
   "source": [
    "res_true = math.sin(fim) - math.sin(inicio) #int(pi/2) = math.sin(fim) - math.sin(inicio)\n",
    "\n",
    "E = abs(res_true - area) #função para calcular o erro cometido\n",
    "print(\"Erro cometido:\", E) #imprimir erro cometido\n",
    "print(\"Solução analítica\", res_true) #imprimir a solução analítica"
   ]
  },
  {
   "cell_type": "markdown",
   "metadata": {},
   "source": [
    "**Responda na célula abaixo:** Por que o erro não é zero e quais são os fatores que influenciam o erro?"
   ]
  },
  {
   "cell_type": "markdown",
   "metadata": {},
   "source": [
    "**Responda:** O erro não pode ser zero porque as áreas calculadas não correspondem  à área do cosseno, porque \n",
    "os retângulos cobrem espaços acima da função ( linha delimitada pela função), e em outras não cobrem espaços abaixo da curva.\n"
   ]
  },
  {
   "cell_type": "markdown",
   "metadata": {},
   "source": [
    "### Resultado esperado\n",
    "\n",
    "No caso acima estamos integrando o cosseno de 0 a $\\pi/2$, então o valor esperado da integral é 1. Seu resultado não será exatamente 1 mas deve estar entre 0.9 e 1.1."
   ]
  },
  {
   "cell_type": "markdown",
   "metadata": {},
   "source": [
    "## Regra dos trapézios\n",
    "\n",
    "A regra dos trapézios é parecida com a regra dos retângulos. Mas utilizaremos a área de um trapézio ao invés da área de um retângulo. O trapézio será definido com base em dois pontos adjacentes nos dados ($d_i$ e $d_{i+1}$, por exemplo).\n",
    "\n",
    "$$\n",
    "A = \\sum\\limits_{i=1}^{N - 1} \\Delta \\frac{d_i + d_{i+1}}{2}\n",
    "$$"
   ]
  },
  {
   "cell_type": "markdown",
   "metadata": {},
   "source": [
    "### Algoritmo\n",
    "\n",
    "Descreva abaixo o algoritmo utilizado (em português) para fazer a integração numérica utilizando a regra dos trapézios."
   ]
  },
  {
   "cell_type": "markdown",
   "metadata": {},
   "source": [
    "No método da Regra dos trapézios:\n",
    "\n",
    "**1º passo:** Dada a função a ser integrada, divide-se o intervalo de integração (a,b) no caso (0 a π/2) em n partes iguais.\n",
    "\n",
    "**2º passo:** Calcula-se a área de cada trapézio pela formula $\\Delta \\frac{d_i + d_{i+1}}{2}$\n",
    "\n",
    "**3º passo:**\n",
    "**OBS:** Sendo  $\\Delta$  = o intervalo dado\n",
    "\n",
    "**4º passo:** A soma das áreas dos trapézios será o valor aproximado da integral\n"
   ]
  },
  {
   "cell_type": "markdown",
   "metadata": {},
   "source": [
    "### Implementação\n",
    "\n",
    "Vamos utilizar os mesmo dados utilizados na regra dos retângulos (na dúvida, rode novamente a célula que gera os dados). Abaixo, escreva e rode o código que faz a integração numérica com a regra dos trapézios. "
   ]
  },
  {
   "cell_type": "code",
   "execution_count": 9,
   "metadata": {
    "collapsed": false
   },
   "outputs": [
    {
     "name": "stdout",
     "output_type": "stream",
     "text": [
      "Integral pela regra dos trapézios: 0.9999143605663631\n"
     ]
    }
   ],
   "source": [
    "area_trapezios = 0 #lista começando no primeiro valor\n",
    "for x in range(N-1): #Cada valor da lista, do somatório de i (de N-1)\n",
    "    o = dados[x] + dados[x+1] #soma do valor de x, mais o valor de x+1\n",
    "    i = intervalo*o/2  #como na formula ( $\\Delta \\frac{d_i + d_{i+1}}{2}$ ) multiplica o valor de o (dados[x] + dados[x+1]) pelo o intervalo e divide por 2\n",
    "    area_trapezios = area_trapezios + i #a soma da área dos trapezios será a soma de todos os valor de i\n",
    "print(\"Integral pela regra dos trapézios:\", area_trapezios) #imprimir a área toral da integral pela regra dos trapézios"
   ]
  },
  {
   "cell_type": "markdown",
   "metadata": {},
   "source": [
    "Calcule e imprima também a solução analíca e o erro cometido."
   ]
  },
  {
   "cell_type": "code",
   "execution_count": 9,
   "metadata": {
    "collapsed": false
   },
   "outputs": [
    {
     "name": "stdout",
     "output_type": "stream",
     "text": [
      "Erro cometido: 8.563943363693038e-05\n",
      "Solução analítica 1.0\n"
     ]
    }
   ],
   "source": [
    "res_true = math.sin(fim) - math.sin(inicio) #int(pi/2) = math.sin(fim) - math.sin(inicio)\n",
    "\n",
    "E = abs(res_true - area_trapezios) #função para calcular o erro cometido\n",
    "print(\"Erro cometido:\", E) #imprimir erro cometido\n",
    "print(\"Solução analítica\", res_true) #imprimir a solução analítica"
   ]
  },
  {
   "cell_type": "markdown",
   "metadata": {},
   "source": [
    "**Responda na célula abaixo:** O erro é maior ou menos que para a regra dos retângulos? Por que? Você esperava isso?"
   ]
  },
  {
   "cell_type": "markdown",
   "metadata": {},
   "source": [
    "**Resposta:** o erro é menor porque a regra dos trapézios abrange melhor a área delimitada abaixo da curva, porque ela está mais proximo ao formato da figura formada.\n",
    "\n"
   ]
  },
  {
   "cell_type": "markdown",
   "metadata": {},
   "source": [
    "### Resultado esperado\n",
    "\n",
    "Novamente, o valos esperado é 1 mas seu resultado não será exatamente 1 (mas deve estar entre 0.9 e 1.1)."
   ]
  },
  {
   "cell_type": "markdown",
   "metadata": {},
   "source": [
    "## Comparação dos dois métodos\n",
    "\n",
    "Vamos comparar o erro de ambos métodos. Uma comparação muito utilizada em métodos numéricos em geral é como o erro varia com o número de dados (ou pontos) utilizados.\n",
    "\n",
    "Nas células abaixo, calcule o erro da integração numérica para diferentes valores de `N`. Os valores de N deverão variar de 10 a 1000 de 10 em 10. Mantenha os intervalos de integração entre $0$ e $\\pi/2$. Faça esse cálculo para os dois métodos: retângulos e trapézios.\n",
    "\n",
    "Ao final, faça um gráfico do erro pelos valores de `N`. O gráfico deverá ter duas curvas, uma para cada método. O eixo y (erros) deverá estar em escala logarítmica.\n",
    "\n",
    "**Dicas**: \n",
    "\n",
    "* Gere uma lista dos valores de `N`.\n",
    "* Para colocar o eixo y em escala log: `plt.yscale('log')`"
   ]
  },
  {
   "cell_type": "code",
   "execution_count": 10,
   "metadata": {
    "collapsed": false
   },
   "outputs": [],
   "source": [
    "# inicio e fim são os intervalos de integração\n",
    "inicio = 0 # Funções trigonométricas utilizam ângulos em radianos!\n",
    "fim = math.pi/2  #intervalo de integracao de 0 a pi/2\n",
    "\n",
    "N_s = range(10,1010,10) #Variacao dos valore de N de 10 a 1000 indo de de 10 em 10.\n",
    "lista_erro_retangulo = [] #lista vazia, onde será adicionados o valores dos erros pela regra dos retangulos\n",
    "lista_erro_trapezio = [] #lista vazia, onde será adicionados o valores dos erros pela regra dos trapezios\n",
    "lista_N = [] #lista dos valores de N de acordo com o N_s\n",
    "\n",
    "for N in N_s: # Para cada valor de N em N_s\n",
    "    intervalo = (fim - inicio)/(N - 1) #intervalo será o valor de (pi/2  - 0) / N-1\n",
    "    tempos_2 = [] #lista  de acordo com os valores de: inicio + i*intervalo para cada i em range(N)\n",
    "    dados_2 = [] #lista de acordo com os valores de: inicio + i*intervalo que são adicionados pela linha de comando \"dados_2.append(math.cos(t))\"\n",
    "    lista_N.append(N)\n",
    "    \n",
    "    for i in range(N): #para cada i em range(n)\n",
    "        t = inicio + i*intervalo #o valor de t\n",
    "        tempos_2.append(t) #adicionar os valor gerados pela linha de comando acima para lista tempos_2\n",
    "        dados_2.append(math.cos(t)) #adicionar os valores gerados pela linha de comando \"t = inicio + i*intervalo\" com a função \"math.cos(t)\" a lista dados_2\n",
    "            \n",
    "        \n",
    "    lista_de_area_2_reta = [] #lista vazia onde será adicionados o valores das áreas pela regra dos retangulos\n",
    "    lista_de_area_2_trap = [] #lista vazia onde sera adicionados os valores das areas pela regra dos trapezios\n",
    "    \n",
    "    \n",
    "    for valor in dados_2: #para cada valor de dados_2\n",
    "        area_2_reta =  valor * intervalo #a área será a multiplicação do valor pelo intervalo\n",
    "        lista_de_area_2_reta.append(area_2_reta)  #será adicionado a lista area_2_reta cada valor gerado pelo comando da linha acima\n",
    "        \n",
    "    for x in range(N-1): #Cada valor da lista, do somatório de i (de N-1)\n",
    "        o = dados_2[x] + dados_2[x+1] #soma do valor de x, mais o valor de x+1\n",
    "        area_2_trap = intervalo*o/2 #como na formula ( $\\Delta \\frac{d_i + d_{i+1}}{2}$ ) multiplica o valor de o (dados[x] + dados[x+1]) pelo o intervalo e divide por 2\n",
    "        lista_de_area_2_trap.append(area_2_trap) #adicionar a lista lista_de_area_2_trap cada valor gerado pelas duas linhas de comando acima\n",
    "    \n",
    "    area_reta = 0 #lista começando no primeiro valor\n",
    "    area_trap = 0 #lista começando no primeiro valor\n",
    "        \n",
    "    for valor in lista_de_area_2_reta: # para cada valor da lista \n",
    "        area_reta = area_reta + valor #area_reta sera a soma de todos os valores da lista_de_area_2_reta\n",
    "    E_reta = abs(res_true - area_reta) #função para calcular o erro cometido\n",
    "    lista_erro_retangulo.append(E_reta) #adicionar a lista_erro_retangulo cada valor de erro\n",
    "    \n",
    "    for valor in lista_de_area_2_trap: #para cada valor na lista\n",
    "        area_trap = area_trap + valor  #area_trap sera a soma de todos os valores da ista_de_area_2_trap \n",
    "    E_trap = abs(res_true - area_trap) #função para calcular o erro cometido\n",
    "    lista_erro_trapezio.append(E_trap) #adicionar a lista_erro_trapezio cada valor de erro"
   ]
  },
  {
   "cell_type": "code",
   "execution_count": 11,
   "metadata": {
    "collapsed": false
   },
   "outputs": [
    {
     "name": "stdout",
     "output_type": "stream",
     "text": [
      "Erro pela regra dos retâgulos: [0.0847266943914422, 0.040767105040247165, 0.026838192538866323, 0.02000322554546985, 0.01594289451325004, 0.013252764278358642, 0.011339393980260404, 0.009908802562918373, 0.00879873989603741, 0.007912335532624493, 0.007188181326510001, 0.006585464592106627, 0.006076001791466723, 0.00563970433809069, 0.005261866997297915, 0.004931477824744235, 0.004640127186015031, 0.00438128192709053, 0.004149789644384283, 0.003941532222525579, 0.0037531787092359714, 0.0035820058140862976, 0.003425765383925139, 0.0032825851113535975, 0.0031508931435173526, 0.00302936013827404, 0.002916854231957755, 0.002812405682363739, 0.0027151788455863635, 0.002624449771287507, 0.0025395881446874657, 0.0024600426222460836, 0.0023853288395463412, 0.0023150195400292173, 0.002248736399520501, 0.002186143216111436, 0.0021269402066168563, 0.002070859205313136, 0.00201765960274769, 0.0019671248948447406, 0.0019190597379299401, 0.0018732874252085363, 0.001829647715960725, 0.001787994961260475, 0.001748196480003017, 0.0017101311470937297, 0.0016736881621586264, 0.0016387659723946513, 0.0016052713275187536, 0.0015731184482921101, 0.0015422282929982156, 0.001512527908692718, 0.0014839498559853226, 0.0014564316978256109, 0.0014299155441381828, 0.001404347645307391, 0.001379678028510689, 0.0013558601717083008, 0.0013328507108480991, 0.001310609176375932, 0.0012890977556891947, 0.0012682810786137644, 0.001248126023331464, 0.0012286015405325035, 0.0012096784937978278, 0.0011913295145344893, 0.0011735288698879742, 0.0011562523423511717, 0.001139477119834309, 0.0011231816951637885, 0.0011073457741057613, 0.0010919501910355844, 0.0010769768315614936, 0.0010624085614299172, 0.0010482291611080274, 0.0010344232655576935, 0.0010209763086852508, 0.0010078744720849464, 0.000995104637673938, 0.0009826543438742341, 0.0009705117450580225, 0.0009586655739537431, 0.0009471051067759806, 0.000935820130839593, 0.0009248009144739999, 0.0009140381790406771, 0.0009035230728589028, 0.0008932471469353942, 0.0008832023323319671, 0.0008733809190117903, 0.0008637755361204924, 0.0008543791335338113, 0.0008451849645951803, 0.0008361865699710869, 0.0008273777625127376, 0.0008187526130578604, 0.0008103054371433327, 0.0008020307824876394, 0.0007939234172813503, 0.0007859783191244141]\n"
     ]
    }
   ],
   "source": [
    "print(\"Erro pela regra dos retâgulos:\", lista_erro_retangulo) #imprimir a lista de erro pela regra dos retangulos"
   ]
  },
  {
   "cell_type": "code",
   "execution_count": 12,
   "metadata": {
    "collapsed": false
   },
   "outputs": [
    {
     "name": "stdout",
     "output_type": "stream",
     "text": [
      "Erro pela regra dos trapézios: [0.0025397682082738404, 0.0005696404017241363, 0.0002445027507007591, 0.00013518890061881006, 8.563943363693038e-05, 5.906899956420464e-05, 4.318809796277634e-05, 3.294634084627379e-05, 2.5958569102590978e-05, 2.0979249167996095e-05, 1.7306411080997286e-05, 1.451997425772067e-05, 1.2356064328145067e-05, 1.0642161171636744e-05, 9.261616107925086e-06, 8.133265805287948e-06, 7.199224621112776e-06, 6.417309767026147e-06, 5.756193697137313e-06, 5.1922166578455275e-06, 4.707240034318438e-06, 4.287169464323171e-06, 3.92091912060355e-06, 3.599672736442905e-06, 3.31634803851788e-06, 3.065203029284369e-06, 2.841542753984072e-06, 2.6414982718936386e-06, 2.4618582101787467e-06, 2.2999390710820578e-06, 2.1534844307780077e-06, 2.020585897044569e-06, 1.8996206285759598e-06, 1.7892015551357332e-06, 1.6881374356181311e-06, 1.595400594189833e-06, 1.510100692714289e-06, 1.4314632810208394e-06, 1.3588121559049426e-06, 1.291554774018877e-06, 1.2291701323441373e-06, 1.1711986513951445e-06, 1.1172336836784424e-06, 1.0669143584163265e-06, 1.0199195453752807e-06, 9.759627037642105e-07, 9.347875155052421e-07, 8.961641344562565e-07, 8.598859736475006e-07, 8.257669346090069e-07, 7.936390203910904e-07, 7.633502617787613e-07, 7.347629151777113e-07, 7.077518916487335e-07, 6.822033979947406e-07, 6.580137202893965e-07, 6.350881812666742e-07, 6.133402047359127e-07, 5.926905064512766e-07, 5.730663560354898e-07, 5.544009569202757e-07, 5.366328523770392e-07, 5.197054405714496e-07, 5.035665060493244e-07, 4.881678301593695e-07, 4.734648251236706e-07, 4.594162084092801e-07, 4.459837138481859e-07, 4.3313183184512383e-07, 4.2082757911732216e-07, 4.0904027487354e-07, 3.9774136650905234e-07, 3.869042363158215e-07, 3.7650406015110605e-07, 3.665176591116648e-07, 3.569233707478858e-07, 3.477009357100158e-07, 3.3883137784407324e-07, 3.302969248109022e-07, 3.220809053905427e-07, 3.141676699902618e-07, 3.065425266957078e-07, 2.9919165367431333e-07, 2.921020545443298e-07, 2.8526149364882514e-07, 2.7865844298702314e-07, 2.722820285905314e-07, 2.6612200232367655e-07, 2.601686767134126e-07, 2.544129107384663e-07, 2.488460568716988e-07, 2.434599375433777e-07, 2.3824681272266446e-07, 2.3319935338328435e-07, 2.283106133038615e-07, 2.2357401008310518e-07, 2.1898328750324936e-07, 2.1453252352365837e-07, 2.102160860939506e-07, 2.0602861949825524e-07]\n"
     ]
    }
   ],
   "source": [
    "print(\"Erro pela regra dos trapézios:\", lista_erro_trapezio) #imprimir a lista de erro pela regra dos trapezios"
   ]
  },
  {
   "cell_type": "code",
   "execution_count": 16,
   "metadata": {
    "collapsed": false
   },
   "outputs": [
    {
     "data": {
      "image/png": "[encoded data removed]",
      "text/plain": [
       "<matplotlib.figure.Figure at 0x3153198>"
      ]
     },
     "metadata": {},
     "output_type": "display_data"
    }
   ],
   "source": [
    "# Os import's foram feitos na primeira celula\n",
    "plt.figure() #plotar figura\n",
    "plt.title(\"Erro de integração numérica\") #Criacao do titulo do grafico\n",
    "plt.plot(lista_N, lista_erro_retangulo,\"-b\", label=\"Retângulos\") #seleção das tabelas tempos e dados\n",
    "plt.plot(lista_N, lista_erro_trapezio, \"-r\", label=\"Trapézios\")\n",
    "plt.yscale('log') #Colocar o eixo y em escla logaritima\n",
    "plt.xlabel(\"Numero de dados\") #definição do eixo horizontal como tempos\n",
    "plt.ylabel(\"Erro\") #definição do eixo vertical como dados\n",
    "legend = plt.legend(loc = \"upper right\", shadow = True, fontsize = \"x-large\") #legenda do grafico"
   ]
  },
  {
   "cell_type": "markdown",
   "metadata": {},
   "source": [
    "**Responda na célula abaixo**: Como o erro varia com `N` para os dois métodos? Aumentar o número de dados de 50 para 200 nos dá a mesma diminuição no erro que aumentar de 650 para 800? Sempre vale a pena utilizar mais dados (lembre-se que a escala é logarítmica)? "
   ]
  },
  {
   "cell_type": "markdown",
   "metadata": {},
   "source": [
    "**Respostas**\n",
    "\n",
    "**Como o erro varia com N para os dois métodos?** \n",
    "\n",
    "Quanto maior o numero de dados será menor o erro. (dados N)\n",
    "\n",
    "**Aumentar o número de dados de 50 para 200 nos dá a mesma diminuição no erro que aumentar de 650 para 800?**\n",
    "\n",
    "Sim, pporque o intervalo entre os valores é o mesmo, ou seja mesma quantidade de N. \n",
    "\n",
    "**Sempre vale a pena utilizar mais dados (lembre-se que a escala é logarítmica)?**\n",
    "\n",
    "Não, porque tendo a escala como logarítimica chegará um momento que o erro tenderá a ser constante."
   ]
  },
  {
   "cell_type": "markdown",
   "metadata": {},
   "source": [
    "### Resultado esperado\n",
    "\n",
    "O gráfico ao final deverá ser parecido com:\n",
    "\n",
    "![images/erro-por-ndados.png](images/erro-por-ndados.png)"
   ]
  },
  {
   "cell_type": "markdown",
   "metadata": {},
   "source": [
    "## Tarefa bônus: Probabilidades\n",
    "\n",
    "Vamos assumir que uma variável aleatória $x$ segue uma [distribuição normal](https://en.wikipedia.org/wiki/Normal_distribution) com média zero e desvio padrão $\\sigma$. Isso quer dizer que a [densidade de probabilidade](https://en.wikipedia.org/wiki/Probability_density_function) para $x$ é\n",
    "\n",
    "$$\n",
    "f(x) = \\frac{1}{\\sigma\\sqrt{2\\pi}} \\exp \\left( -\\frac{x^2}{2 \\sigma^2} \\right)\n",
    "$$\n",
    "\n",
    "A probabilidade de $x$ cair no intervalo $[a, b]$ é dada por ([refência](https://en.wikipedia.org/wiki/Probability_distribution#Continuous_probability_distribution)):\n",
    "\n",
    "$$\n",
    "P(a \\leq x \\leq b) = \\int\\limits_a^b f(x) dx\n",
    "$$\n",
    "\n",
    "Calcule na célula abaixo qual é a probabilidade de $x$ estar entre $[-\\sigma, +\\sigma]$ para $\\sigma = 5$."
   ]
  },
  {
   "cell_type": "code",
   "execution_count": null,
   "metadata": {
    "collapsed": true
   },
   "outputs": [],
   "source": []
  }
 ],
 "metadata": {
  "kernelspec": {
   "display_name": "Python 3",
   "language": "python",
   "name": "python3"
  },
  "language_info": {
   "codemirror_mode": {
    "name": "ipython",
    "version": 3
   },
   "file_extension": ".py",
   "mimetype": "text/x-python",
   "name": "python",
   "nbconvert_exporter": "python",
   "pygments_lexer": "ipython3",
   "version": "3.4.3"
  }
 },
 "nbformat": 4,
 "nbformat_minor": 0
}
